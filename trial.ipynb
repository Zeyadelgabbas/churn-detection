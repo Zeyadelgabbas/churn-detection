{
 "cells": [
  {
   "cell_type": "code",
   "execution_count": 1,
   "id": "957a43ec",
   "metadata": {},
   "outputs": [],
   "source": [
    "import pandas as pd \n",
    "from utils.validation import CustomerData\n",
    "import joblib\n",
    "from utils.config import XGB_MODEL_PATH,PREPROCESSOR_FILE_PATH"
   ]
  },
  {
   "cell_type": "code",
   "execution_count": 2,
   "id": "5b2a8585",
   "metadata": {},
   "outputs": [],
   "source": [
    "customer = CustomerData(\n",
    "    CreditScore=652,\n",
    "    Geography=\"France\",\n",
    "    Gender=\"Female\",\n",
    "    Age=80,\n",
    "    Tenure=4,\n",
    "    Balance=0.0,\n",
    "    NumOfProducts=2,\n",
    "    HasCrCard=1,\n",
    "    IsActiveMember=1,\n",
    "    EstimatedSalary=188603.07\n",
    ")"
   ]
  },
  {
   "cell_type": "code",
   "execution_count": 3,
   "id": "b9f7590c",
   "metadata": {},
   "outputs": [],
   "source": [
    "df=pd.DataFrame([customer.model_dump()])"
   ]
  },
  {
   "cell_type": "code",
   "execution_count": 4,
   "id": "6bf77bcd",
   "metadata": {},
   "outputs": [
    {
     "data": {
      "text/html": [
       "<div>\n",
       "<style scoped>\n",
       "    .dataframe tbody tr th:only-of-type {\n",
       "        vertical-align: middle;\n",
       "    }\n",
       "\n",
       "    .dataframe tbody tr th {\n",
       "        vertical-align: top;\n",
       "    }\n",
       "\n",
       "    .dataframe thead th {\n",
       "        text-align: right;\n",
       "    }\n",
       "</style>\n",
       "<table border=\"1\" class=\"dataframe\">\n",
       "  <thead>\n",
       "    <tr style=\"text-align: right;\">\n",
       "      <th></th>\n",
       "      <th>CreditScore</th>\n",
       "      <th>Geography</th>\n",
       "      <th>Gender</th>\n",
       "      <th>Age</th>\n",
       "      <th>Tenure</th>\n",
       "      <th>Balance</th>\n",
       "      <th>NumOfProducts</th>\n",
       "      <th>HasCrCard</th>\n",
       "      <th>IsActiveMember</th>\n",
       "      <th>EstimatedSalary</th>\n",
       "    </tr>\n",
       "  </thead>\n",
       "  <tbody>\n",
       "    <tr>\n",
       "      <th>0</th>\n",
       "      <td>652</td>\n",
       "      <td>France</td>\n",
       "      <td>Female</td>\n",
       "      <td>80</td>\n",
       "      <td>4</td>\n",
       "      <td>0.0</td>\n",
       "      <td>2</td>\n",
       "      <td>1</td>\n",
       "      <td>1</td>\n",
       "      <td>188603.07</td>\n",
       "    </tr>\n",
       "  </tbody>\n",
       "</table>\n",
       "</div>"
      ],
      "text/plain": [
       "   CreditScore Geography  Gender  Age  Tenure  Balance  NumOfProducts  \\\n",
       "0          652    France  Female   80       4      0.0              2   \n",
       "\n",
       "   HasCrCard  IsActiveMember  EstimatedSalary  \n",
       "0          1               1        188603.07  "
      ]
     },
     "execution_count": 4,
     "metadata": {},
     "output_type": "execute_result"
    }
   ],
   "source": [
    "df"
   ]
  },
  {
   "cell_type": "code",
   "execution_count": 9,
   "id": "ca4194ed",
   "metadata": {},
   "outputs": [
    {
     "data": {
      "text/plain": [
       "(1,)"
      ]
     },
     "execution_count": 9,
     "metadata": {},
     "output_type": "execute_result"
    }
   ],
   "source": [
    "model=joblib.load(XGB_MODEL_PATH)\n",
    "preprocessor = joblib.load(PREPROCESSOR_FILE_PATH)\n",
    "\n",
    "x_processed = preprocessor.transform(df)\n",
    "y_predict = model.predict(x_processed)\n",
    "y_predict.shape\n"
   ]
  },
  {
   "cell_type": "code",
   "execution_count": 10,
   "id": "471a5232",
   "metadata": {},
   "outputs": [],
   "source": [
    "y_proba = model.predict_proba(x_processed)"
   ]
  },
  {
   "cell_type": "code",
   "execution_count": null,
   "id": "7200a25e",
   "metadata": {},
   "outputs": [
    {
     "data": {
      "text/plain": [
       "array([[0.7945967 , 0.20540336]], dtype=float32)"
      ]
     },
     "execution_count": 13,
     "metadata": {},
     "output_type": "execute_result"
    }
   ],
   "source": [
    "y_proba[0][1]"
   ]
  },
  {
   "cell_type": "code",
   "execution_count": null,
   "id": "d5599e14",
   "metadata": {},
   "outputs": [],
   "source": []
  }
 ],
 "metadata": {
  "kernelspec": {
   "display_name": "venv",
   "language": "python",
   "name": "python3"
  },
  "language_info": {
   "codemirror_mode": {
    "name": "ipython",
    "version": 3
   },
   "file_extension": ".py",
   "mimetype": "text/x-python",
   "name": "python",
   "nbconvert_exporter": "python",
   "pygments_lexer": "ipython3",
   "version": "3.12.7"
  }
 },
 "nbformat": 4,
 "nbformat_minor": 5
}
